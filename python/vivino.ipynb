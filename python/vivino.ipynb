{
 "cells": [
  {
   "cell_type": "code",
   "execution_count": 1,
   "metadata": {},
   "outputs": [],
   "source": [
    "import pandas as pd\n",
    "import numpy as np\n",
    "import glob\n",
    "import os"
   ]
  },
  {
   "cell_type": "code",
   "execution_count": 2,
   "metadata": {},
   "outputs": [],
   "source": [
    "list_of_df = []\n",
    "for file in glob.glob(\"../data/vivino/\"+ \"/*csv\"):\n",
    "    df = pd.read_csv(file, index_col=None, header=0)\n",
    "    df[\"wine_type\"] = file.replace(\"../data/vivino/\", \"\").replace(\".csv\", \"\")\n",
    "    list_of_df.append(df)\n",
    "\n",
    "frame = pd.concat(list_of_df, axis=0, ignore_index=True)\n",
    "frame.to_csv(\"../graphics/graphics_data/vivino.csv\")"
   ]
  },
  {
   "cell_type": "code",
   "execution_count": 3,
   "metadata": {},
   "outputs": [],
   "source": [
    "from re import sub\n",
    "\n",
    "def snake_case(s):\n",
    "  return '_'.join(\n",
    "    sub('([A-Z][a-z]+)', r' \\1',\n",
    "    sub('([A-Z]+)', r' \\1',\n",
    "    s.replace('-', ' ').replace(\"'\", \"\"))).split()).lower()\n",
    "\n",
    "frame.columns = [snake_case(x) for x in frame.columns]\n",
    "frame[\"year\"] = pd.to_numeric(frame.year.apply(lambda x: x.replace(\"N.V.\", \"2020\")))"
   ]
  },
  {
   "cell_type": "code",
   "execution_count": 4,
   "metadata": {},
   "outputs": [],
   "source": [
    "frame.rename(columns={\"rating\":\"quality\"}, inplace=True)\n",
    "# frame = frame.drop(\"winery\", axis=1)\n",
    "frame = frame.drop(\"name\", axis=1)\n",
    "frame[\"quality\"] = frame.quality * 2\n",
    "frame = frame.drop(\"country\", axis=1)"
   ]
  },
  {
   "cell_type": "code",
   "execution_count": 5,
   "metadata": {},
   "outputs": [],
   "source": [
    "df = pd.get_dummies(frame)"
   ]
  },
  {
   "cell_type": "code",
   "execution_count": 6,
   "metadata": {},
   "outputs": [
    {
     "name": "stderr",
     "output_type": "stream",
     "text": [
      "/Users/josephdespres/my_env/lib/python3.9/site-packages/numpy/core/_methods.py:232: RuntimeWarning: overflow encountered in multiply\n",
      "  x = um.multiply(x, x, out=x)\n",
      "/Users/josephdespres/my_env/lib/python3.9/site-packages/numpy/core/_methods.py:243: RuntimeWarning: overflow encountered in reduce\n",
      "  ret = umr_sum(x, axis, dtype, out, keepdims=keepdims, where=where)\n"
     ]
    }
   ],
   "source": [
    "import xgboost as xgb\n",
    "from sklearn.linear_model import LinearRegression\n",
    "from sklearn import svm\n",
    "from sklearn import model_selection\n",
    "from sklearn.model_selection import cross_val_score\n",
    "df_train, df_test = model_selection.train_test_split(\n",
    "        df, test_size=0.2, random_state=66\n",
    ")\n",
    "cols_to_adjust = [\"number_of_ratings\", \"price\", \"year\"] \n",
    "from sklearn.compose import ColumnTransformer\n",
    "from sklearn.preprocessing import PowerTransformer\n",
    "\n",
    "df_transform = ColumnTransformer(\n",
    "    [(\"yao\", PowerTransformer(), cols_to_adjust)],\n",
    "    remainder=\"passthrough\",\n",
    ")\n",
    "\n",
    "df_train = pd.DataFrame(df_transform.fit_transform(df_train), columns=df.columns)\n",
    "\n",
    "X_train = df_train.drop(\"quality\", axis=1)\n",
    "y_train = df_train[\"quality\"]"
   ]
  },
  {
   "cell_type": "code",
   "execution_count": 7,
   "metadata": {},
   "outputs": [
    {
     "name": "stderr",
     "output_type": "stream",
     "text": [
      "/Users/josephdespres/my_env/lib/python3.9/site-packages/sklearn/preprocessing/_data.py:3216: RuntimeWarning: overflow encountered in power\n",
      "  out[pos] = (np.power(x[pos] + 1, lmbda) - 1) / lmbda\n",
      "/Users/josephdespres/my_env/lib/python3.9/site-packages/numpy/core/_methods.py:232: RuntimeWarning: overflow encountered in multiply\n",
      "  x = um.multiply(x, x, out=x)\n",
      "/Users/josephdespres/my_env/lib/python3.9/site-packages/numpy/core/_methods.py:243: RuntimeWarning: overflow encountered in reduce\n",
      "  ret = umr_sum(x, axis, dtype, out, keepdims=keepdims, where=where)\n"
     ]
    }
   ],
   "source": [
    "df_test = pd.DataFrame(df_transform.fit_transform(df_test), columns=df.columns)\n",
    "X_test = df_test.drop(\"quality\", axis=1)\n",
    "y_test = df_test[\"quality\"]"
   ]
  },
  {
   "cell_type": "code",
   "execution_count": 8,
   "metadata": {},
   "outputs": [],
   "source": [
    "rmse_list = []"
   ]
  },
  {
   "cell_type": "code",
   "execution_count": 9,
   "metadata": {},
   "outputs": [],
   "source": [
    "from sklearn.linear_model import LinearRegression\n",
    "from sklearn import svm\n",
    "\n",
    "regression = LinearRegression()\n",
    "from sklearn import metrics\n",
    "yhat = regression.fit(X_train, y_train).predict(X_test)\n",
    "rmse = metrics.mean_squared_error(yhat, y_test, squared=False)\n",
    "\n",
    "rmse_list.append(rmse)"
   ]
  },
  {
   "cell_type": "code",
   "execution_count": 10,
   "metadata": {},
   "outputs": [],
   "source": [
    "\n",
    "import multiprocessing\n",
    "cores = multiprocessing.cpu_count()\n",
    "\n",
    "xgboost = xgb.XGBRegressor()\n",
    "\n",
    "xgboost.fit(X_train, y_train)\n",
    "yhat = xgboost.predict(X_test)\n",
    "rmse = metrics.mean_squared_error(yhat, y_test, squared=False)\n",
    "rmse_list.append(rmse)"
   ]
  },
  {
   "cell_type": "code",
   "execution_count": 11,
   "metadata": {},
   "outputs": [],
   "source": [
    "from sklearn import svm\n"
   ]
  },
  {
   "cell_type": "code",
   "execution_count": 12,
   "metadata": {},
   "outputs": [],
   "source": [
    "\n",
    "support_vector_machine = svm.SVR()\n",
    "support_vector_machine.fit(X_train, y_train)\n",
    "yhat = support_vector_machine.predict(X_test)\n",
    "rmse = metrics.mean_squared_error(yhat, y_test, squared=False)\n",
    "rmse_list.append(rmse)"
   ]
  },
  {
   "cell_type": "code",
   "execution_count": 13,
   "metadata": {},
   "outputs": [],
   "source": [
    "models = []\n",
    "models.append((\"xgb\", xgboost))\n",
    "models.append((\"logistic_reg\", regression))\n",
    "models.append((\"svm\", support_vector_machine))"
   ]
  },
  {
   "cell_type": "code",
   "execution_count": 14,
   "metadata": {},
   "outputs": [],
   "source": [
    "preds = []\n",
    "for i, model in enumerate(models):\n",
    "    model = model[1]\n",
    "    yhat = model.fit(X_train, y_train).predict(X_test)\n",
    "    preds.append(yhat)\n"
   ]
  },
  {
   "cell_type": "code",
   "execution_count": 15,
   "metadata": {},
   "outputs": [],
   "source": [
    "yhat = np.array(preds).mean(axis=0)\n",
    "rmse = metrics.mean_squared_error(yhat, y_test, squared=False)\n",
    "rmse_list.append(rmse)"
   ]
  },
  {
   "cell_type": "code",
   "execution_count": 16,
   "metadata": {},
   "outputs": [
    {
     "data": {
      "text/plain": [
       "[1476143901.0359075, 0.9127213276706317, 0.8793859458985559, 492047967.0128748]"
      ]
     },
     "execution_count": 16,
     "metadata": {},
     "output_type": "execute_result"
    }
   ],
   "source": [
    "rmse_list"
   ]
  },
  {
   "cell_type": "code",
   "execution_count": 17,
   "metadata": {},
   "outputs": [],
   "source": [
    "data = pd.DataFrame([rmse_list], columns = [\"XGBoost\", \"Elastic Net\", \"SVM\", \"Ensemble\"])"
   ]
  },
  {
   "cell_type": "code",
   "execution_count": 18,
   "metadata": {},
   "outputs": [],
   "source": [
    "# data.to_csv(\"../graphics/graphics_data/accuracy_table.csv\", mode='a', index=True, header=False) "
   ]
  },
  {
   "cell_type": "code",
   "execution_count": null,
   "metadata": {},
   "outputs": [],
   "source": []
  }
 ],
 "metadata": {
  "interpreter": {
   "hash": "da87aeadf87cf490297224c7c23f7d1e1063536e82f4ace3f47dca861e15fad8"
  },
  "kernelspec": {
   "display_name": "Python 3.9.10 ('my_env')",
   "language": "python",
   "name": "python3"
  },
  "language_info": {
   "codemirror_mode": {
    "name": "ipython",
    "version": 3
   },
   "file_extension": ".py",
   "mimetype": "text/x-python",
   "name": "python",
   "nbconvert_exporter": "python",
   "pygments_lexer": "ipython3",
   "version": "3.9.12"
  },
  "orig_nbformat": 4
 },
 "nbformat": 4,
 "nbformat_minor": 2
}
