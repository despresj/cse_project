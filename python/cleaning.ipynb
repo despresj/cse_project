{
 "cells": [
  {
   "cell_type": "code",
   "execution_count": 1,
   "metadata": {},
   "outputs": [],
   "source": [
    "import pandas as pd\n",
    "import numpy as np"
   ]
  },
  {
   "cell_type": "code",
   "execution_count": 2,
   "metadata": {},
   "outputs": [],
   "source": [
    "red_url = \"https://archive.ics.uci.edu/ml/machine-learning-databases/wine-quality/winequality-red.csv\"\n",
    "white_url = \"https://archive.ics.uci.edu/ml/machine-learning-databases/wine-quality/winequality-white.csv\"\n",
    "\n",
    "red_df = pd.read_csv(red_url, sep=\";\")\n",
    "white_df = pd.read_csv(white_url, sep=\";\")"
   ]
  },
  {
   "cell_type": "code",
   "execution_count": 3,
   "metadata": {},
   "outputs": [],
   "source": [
    "red_df['is_red'] = 1\n",
    "white_df['is_red'] = 0\n",
    "df_raw = pd.concat([red_df, white_df])\n",
    "df_raw.columns = [x.lower().replace(\" \", \"_\") for x in df_raw.columns]"
   ]
  },
  {
   "cell_type": "code",
   "execution_count": 4,
   "metadata": {},
   "outputs": [],
   "source": [
    "df_raw = df_raw.groupby(df_raw.columns.tolist(), as_index=False).size()\n",
    "df_raw.rename(columns = {'size':'duplicates'}, inplace = True)"
   ]
  },
  {
   "cell_type": "code",
   "execution_count": 5,
   "metadata": {},
   "outputs": [],
   "source": [
    "y = df_raw.quality\n",
    "X = df_raw.drop(\"quality\", axis=1)"
   ]
  },
  {
   "cell_type": "code",
   "execution_count": 6,
   "metadata": {},
   "outputs": [],
   "source": [
    "from sklearn.model_selection import train_test_split\n",
    "X_train, X_test, y_train, y_test = train_test_split(X, y, test_size=0.40, random_state=42)"
   ]
  },
  {
   "cell_type": "code",
   "execution_count": 7,
   "metadata": {},
   "outputs": [],
   "source": [
    "from sklearn import preprocessing\n",
    "already_scaled = X_train[[\"is_red\", \"duplicates\"]].to_numpy()\n",
    "to_scale = X_train.drop([\"is_red\", \"duplicates\"], axis=1)\n",
    "scaler = preprocessing.StandardScaler().fit(to_scale)\n",
    "scaled = scaler.transform(to_scale)"
   ]
  },
  {
   "cell_type": "code",
   "execution_count": 8,
   "metadata": {},
   "outputs": [],
   "source": [
    "upper_quartile = np.quantile(scaled, 0.75, axis=0) * 3\n",
    "scaled = np.where(scaled > upper_quartile, np.nan, scaled)"
   ]
  },
  {
   "cell_type": "code",
   "execution_count": 9,
   "metadata": {},
   "outputs": [],
   "source": [
    "lower_quartile = np.quantile(scaled, 0.25, axis=0) * 3\n",
    "scaled = np.where(scaled < lower_quartile, np.nan, scaled)"
   ]
  },
  {
   "cell_type": "code",
   "execution_count": 10,
   "metadata": {},
   "outputs": [],
   "source": [
    "from sklearn.impute import KNNImputer\n",
    "imputer = KNNImputer(n_neighbors=3)\n",
    "inputed = imputer.fit_transform(scaled)\n",
    "X_train = np.concatenate((inputed, already_scaled), axis=1)"
   ]
  },
  {
   "cell_type": "code",
   "execution_count": 11,
   "metadata": {},
   "outputs": [],
   "source": [
    "# im gona regret not putting this in a function\n",
    "test_scaled = X_test[[\"is_red\", \"duplicates\"]].to_numpy()\n",
    "test_to_scale = X_test.drop([\"is_red\", \"duplicates\"], axis=1)\n",
    "test_scaled = scaler.transform(test_to_scale)\n",
    "test_scaled = np.where(test_scaled > upper_quartile, np.nan, test_scaled)\n",
    "test_scaled = np.where(test_scaled < lower_quartile, np.nan, test_scaled)\n",
    "test_inputed = imputer.fit_transform(test_scaled)\n",
    "X_test = np.concatenate((test_inputed, test_scaled), axis=1)"
   ]
  },
  {
   "cell_type": "code",
   "execution_count": 41,
   "metadata": {},
   "outputs": [],
   "source": [
    "np.savez(\"../data/processed/npy\", \n",
    "            X_train = X_train,\n",
    "            X_test = X_test,\n",
    "            y_train = y_train,\n",
    "            y_test = y_test)"
   ]
  }
 ],
 "metadata": {
  "interpreter": {
   "hash": "46adb795152d5db59f955a662f1f645c8cf39f91042255151212cfaad4a46d3d"
  },
  "kernelspec": {
   "display_name": "ml_env",
   "language": "python",
   "name": "python3"
  },
  "language_info": {
   "codemirror_mode": {
    "name": "ipython",
    "version": 3
   },
   "file_extension": ".py",
   "mimetype": "text/x-python",
   "name": "python",
   "nbconvert_exporter": "python",
   "pygments_lexer": "ipython3",
   "version": "3.9.9"
  },
  "orig_nbformat": 4
 },
 "nbformat": 4,
 "nbformat_minor": 2
}
