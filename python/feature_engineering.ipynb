{
 "cells": [
  {
   "cell_type": "markdown",
   "metadata": {},
   "source": [
    "# Feature Engineering Testing\n",
    "In this part, we will take a look at our variables and determine which feature engineering methods prep our data in a way that is easier for our models to interpret."
   ]
  },
  {
   "cell_type": "code",
   "execution_count": 1,
   "metadata": {},
   "outputs": [],
   "source": [
    "import pandas as pd"
   ]
  },
  {
   "cell_type": "code",
   "execution_count": 3,
   "metadata": {},
   "outputs": [],
   "source": [
    "red_url = \"https://archive.ics.uci.edu/ml/machine-learning-databases/wine-quality/winequality-red.csv\"\n",
    "white_url = \"https://archive.ics.uci.edu/ml/machine-learning-databases/wine-quality/winequality-white.csv\"\n",
    "red_df = pd.read_csv(red_url, sep=\";\")\n",
    "white_df = pd.read_csv(white_url, sep=\";\")\n",
    "red_df[\"is_red\"] = 1\n",
    "white_df[\"is_red\"] = 0\n",
    "df_raw = pd.concat([red_df, white_df])\n",
    "df_raw.columns = [x.replace(\" \", \"_\") for x in df_raw.columns]\n",
    "df_raw.to_csv(\"../data/processed/wine_data_combined.csv\", index=False)"
   ]
  },
  {
   "cell_type": "code",
   "execution_count": null,
   "metadata": {},
   "outputs": [],
   "source": [
    "df_raw = pd.read_csv(\"../data/processed/wine_data_combined.csv\")\n",
    "cols_to_adjust = [x for x in df_raw.columns if x not in [\"quality\", \"is_red\"]]"
   ]
  },
  {
   "cell_type": "code",
   "execution_count": 3,
   "metadata": {},
   "outputs": [],
   "source": [
    "from sklearn import preprocessing\n",
    "from sklearn.linear_model import LogisticRegression\n",
    "from sklearn.metrics import roc_auc_score\n",
    "from sklearn.model_selection import train_test_split\n",
    "from sklearn.compose import ColumnTransformer\n",
    "from sklearn.pipeline import Pipeline"
   ]
  },
  {
   "cell_type": "code",
   "execution_count": 4,
   "metadata": {},
   "outputs": [],
   "source": [
    "df_train_raw, df_test_raw = train_test_split(\n",
    "    df_raw, test_size=0.3, random_state=55, stratify=df_raw[\"quality\"]\n",
    ")"
   ]
  },
  {
   "cell_type": "code",
   "execution_count": 5,
   "metadata": {},
   "outputs": [],
   "source": [
    "def get_auc(\n",
    "    df, scaler=None, target=\"quality\", cols_adj=cols_to_adjust, n_iters=1, split=0.4\n",
    "):\n",
    "\n",
    "    auc_list = []\n",
    "    for seed in range(n_iters):\n",
    "        X = df.drop(target, axis=1)\n",
    "        y = pd.Categorical(df[target], ordered=True)\n",
    "\n",
    "        X_train, X_val, y_train, y_val = train_test_split(\n",
    "            X, y, test_size=split, random_state=seed, stratify=y\n",
    "        )\n",
    "\n",
    "        multi_logit_reg = LogisticRegression(max_iter=5000, solver=\"saga\")\n",
    "\n",
    "        if scaler is not None:\n",
    "            df_transform = ColumnTransformer(\n",
    "                [(\" \", scaler, cols_adj)], remainder=\"passthrough\"\n",
    "            )\n",
    "            pipeline = Pipeline(steps=[(\"t\", df_transform), (\"m\", multi_logit_reg)])\n",
    "            model_fit = pipeline.fit(X_train, y_train)\n",
    "        else:\n",
    "            model_fit = multi_logit_reg.fit(X_train, y_train)\n",
    "\n",
    "        phat = model_fit.predict_proba(X_val)\n",
    "        auc_list.append(roc_auc_score(y_val, phat, multi_class=\"ovo\"))\n",
    "    return auc_list"
   ]
  },
  {
   "cell_type": "code",
   "execution_count": null,
   "metadata": {},
   "outputs": [],
   "source": [
    "baseline_results = get_auc(df_train_raw)"
   ]
  },
  {
   "cell_type": "code",
   "execution_count": null,
   "metadata": {},
   "outputs": [],
   "source": [
    "std_scale_results = get_auc(df_train_raw, preprocessing.StandardScaler())"
   ]
  },
  {
   "cell_type": "code",
   "execution_count": null,
   "metadata": {},
   "outputs": [],
   "source": [
    "min_max_results = get_auc(df_train_raw, preprocessing.MinMaxScaler())"
   ]
  },
  {
   "cell_type": "code",
   "execution_count": null,
   "metadata": {},
   "outputs": [],
   "source": [
    "robscale_results = get_auc(\n",
    "    df_train_raw, preprocessing.RobustScaler(quantile_range=(0.2, 0.8))\n",
    ")  # Drops outliers"
   ]
  },
  {
   "cell_type": "code",
   "execution_count": null,
   "metadata": {},
   "outputs": [],
   "source": [
    "pwr_transform_results = get_auc(\n",
    "    df_train_raw, preprocessing.PowerTransformer()\n",
    ")  #  yao johnson"
   ]
  },
  {
   "cell_type": "code",
   "execution_count": null,
   "metadata": {},
   "outputs": [],
   "source": [
    "quant_transfmr_results = get_auc(\n",
    "    df_train_raw, preprocessing.QuantileTransformer()\n",
    ")  # transforms data to unf(0,1)"
   ]
  },
  {
   "cell_type": "code",
   "execution_count": null,
   "metadata": {},
   "outputs": [],
   "source": [
    "res_zip = zip(\n",
    "    baseline_results,\n",
    "    std_scale_results,\n",
    "    min_max_results,\n",
    "    robscale_results,\n",
    "    pwr_transform_results,\n",
    "    quant_transfmr_results,\n",
    ")"
   ]
  },
  {
   "cell_type": "code",
   "execution_count": null,
   "metadata": {},
   "outputs": [],
   "source": [
    "results = pd.DataFrame(\n",
    "    res_zip,\n",
    "    columns=[\n",
    "        \"baseline_results\",\n",
    "        \"std_scale_results\",\n",
    "        \"min_max_results\",\n",
    "        \"robscale_results\",\n",
    "        \"pwr_transform_results\",\n",
    "        \"quant_transfmr_results\",\n",
    "    ],\n",
    ")  # .to_csv(\"../result_logs/transformations.csv\")"
   ]
  }
 ],
 "metadata": {
  "interpreter": {
   "hash": "46adb795152d5db59f955a662f1f645c8cf39f91042255151212cfaad4a46d3d"
  },
  "kernelspec": {
   "display_name": "ml_env",
   "language": "python",
   "name": "python3"
  },
  "language_info": {
   "codemirror_mode": {
    "name": "ipython",
    "version": 3
   },
   "file_extension": ".py",
   "mimetype": "text/x-python",
   "name": "python",
   "nbconvert_exporter": "python",
   "pygments_lexer": "ipython3",
   "version": "3.9.10"
  },
  "orig_nbformat": 4
 },
 "nbformat": 4,
 "nbformat_minor": 2
}
